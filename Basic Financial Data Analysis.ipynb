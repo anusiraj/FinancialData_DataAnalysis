{
 "cells": [
  {
   "cell_type": "code",
   "execution_count": 1,
   "metadata": {},
   "outputs": [],
   "source": [
    "import pandas as pd\n",
    "import matplotlib.pyplot as plt\n",
    "import warnings\n",
    "warnings.filterwarnings('ignore')"
   ]
  },
  {
   "cell_type": "code",
   "execution_count": 2,
   "metadata": {},
   "outputs": [],
   "source": [
    "aapl =pd.read_csv('AAPL.csv',index_col=\"date\",skiprows=[1])\n",
    "goog =pd.read_csv('GOOG.csv',index_col=\"date\",skiprows=[1])\n",
    "msft =pd.read_csv('MSFT.csv',index_col=\"date\",skiprows=[1])\n",
    "amzn =pd.read_csv('AMAZON.csv',index_col=\"date\",skiprows=[1])"
   ]
  },
  {
   "cell_type": "code",
   "execution_count": 3,
   "metadata": {},
   "outputs": [
    {
     "data": {
      "text/html": [
       "<div>\n",
       "<style scoped>\n",
       "    .dataframe tbody tr th:only-of-type {\n",
       "        vertical-align: middle;\n",
       "    }\n",
       "\n",
       "    .dataframe tbody tr th {\n",
       "        vertical-align: top;\n",
       "    }\n",
       "\n",
       "    .dataframe thead th {\n",
       "        text-align: right;\n",
       "    }\n",
       "</style>\n",
       "<table border=\"1\" class=\"dataframe\">\n",
       "  <thead>\n",
       "    <tr style=\"text-align: right;\">\n",
       "      <th></th>\n",
       "      <th>close</th>\n",
       "      <th>volume</th>\n",
       "      <th>open</th>\n",
       "      <th>high</th>\n",
       "      <th>low</th>\n",
       "    </tr>\n",
       "    <tr>\n",
       "      <th>date</th>\n",
       "      <th></th>\n",
       "      <th></th>\n",
       "      <th></th>\n",
       "      <th></th>\n",
       "      <th></th>\n",
       "    </tr>\n",
       "  </thead>\n",
       "  <tbody>\n",
       "    <tr>\n",
       "      <th>2019/08/23</th>\n",
       "      <td>202.64</td>\n",
       "      <td>46882840.0</td>\n",
       "      <td>209.43</td>\n",
       "      <td>212.0510</td>\n",
       "      <td>201.0000</td>\n",
       "    </tr>\n",
       "    <tr>\n",
       "      <th>2019/08/22</th>\n",
       "      <td>212.46</td>\n",
       "      <td>22267820.0</td>\n",
       "      <td>213.19</td>\n",
       "      <td>214.4350</td>\n",
       "      <td>210.7500</td>\n",
       "    </tr>\n",
       "    <tr>\n",
       "      <th>2019/08/21</th>\n",
       "      <td>212.64</td>\n",
       "      <td>21564750.0</td>\n",
       "      <td>212.99</td>\n",
       "      <td>213.6500</td>\n",
       "      <td>211.6032</td>\n",
       "    </tr>\n",
       "    <tr>\n",
       "      <th>2019/08/20</th>\n",
       "      <td>210.36</td>\n",
       "      <td>26919530.0</td>\n",
       "      <td>210.88</td>\n",
       "      <td>213.3500</td>\n",
       "      <td>210.3200</td>\n",
       "    </tr>\n",
       "    <tr>\n",
       "      <th>2019/08/19</th>\n",
       "      <td>210.35</td>\n",
       "      <td>24431920.0</td>\n",
       "      <td>210.62</td>\n",
       "      <td>212.7307</td>\n",
       "      <td>210.0250</td>\n",
       "    </tr>\n",
       "  </tbody>\n",
       "</table>\n",
       "</div>"
      ],
      "text/plain": [
       "             close      volume    open      high       low\n",
       "date                                                      \n",
       "2019/08/23  202.64  46882840.0  209.43  212.0510  201.0000\n",
       "2019/08/22  212.46  22267820.0  213.19  214.4350  210.7500\n",
       "2019/08/21  212.64  21564750.0  212.99  213.6500  211.6032\n",
       "2019/08/20  210.36  26919530.0  210.88  213.3500  210.3200\n",
       "2019/08/19  210.35  24431920.0  210.62  212.7307  210.0250"
      ]
     },
     "execution_count": 3,
     "metadata": {},
     "output_type": "execute_result"
    }
   ],
   "source": [
    "aapl.head()"
   ]
  },
  {
   "cell_type": "code",
   "execution_count": 4,
   "metadata": {},
   "outputs": [
    {
     "name": "stdout",
     "output_type": "stream",
     "text": [
      "<class 'pandas.core.frame.DataFrame'>\n",
      "Index: 1259 entries, 2019/08/23 to 2014/08/25\n",
      "Data columns (total 5 columns):\n",
      "close     1259 non-null float64\n",
      "volume    1259 non-null float64\n",
      "open      1259 non-null float64\n",
      "high      1259 non-null float64\n",
      "low       1259 non-null float64\n",
      "dtypes: float64(5)\n",
      "memory usage: 59.0+ KB\n"
     ]
    }
   ],
   "source": [
    "aapl.info()"
   ]
  },
  {
   "cell_type": "code",
   "execution_count": 5,
   "metadata": {},
   "outputs": [
    {
     "data": {
      "text/html": [
       "<div>\n",
       "<style scoped>\n",
       "    .dataframe tbody tr th:only-of-type {\n",
       "        vertical-align: middle;\n",
       "    }\n",
       "\n",
       "    .dataframe tbody tr th {\n",
       "        vertical-align: top;\n",
       "    }\n",
       "\n",
       "    .dataframe thead th {\n",
       "        text-align: right;\n",
       "    }\n",
       "</style>\n",
       "<table border=\"1\" class=\"dataframe\">\n",
       "  <thead>\n",
       "    <tr style=\"text-align: right;\">\n",
       "      <th></th>\n",
       "      <th>close</th>\n",
       "      <th>volume</th>\n",
       "      <th>open</th>\n",
       "      <th>high</th>\n",
       "      <th>low</th>\n",
       "    </tr>\n",
       "    <tr>\n",
       "      <th>date</th>\n",
       "      <th></th>\n",
       "      <th></th>\n",
       "      <th></th>\n",
       "      <th></th>\n",
       "      <th></th>\n",
       "    </tr>\n",
       "  </thead>\n",
       "  <tbody>\n",
       "    <tr>\n",
       "      <th>2019/08/22</th>\n",
       "      <td>137.78</td>\n",
       "      <td>18709660.0</td>\n",
       "      <td>138.660</td>\n",
       "      <td>139.2000</td>\n",
       "      <td>136.290</td>\n",
       "    </tr>\n",
       "    <tr>\n",
       "      <th>2019/08/21</th>\n",
       "      <td>138.79</td>\n",
       "      <td>14982310.0</td>\n",
       "      <td>138.550</td>\n",
       "      <td>139.4935</td>\n",
       "      <td>138.000</td>\n",
       "    </tr>\n",
       "    <tr>\n",
       "      <th>2019/08/20</th>\n",
       "      <td>137.26</td>\n",
       "      <td>21189000.0</td>\n",
       "      <td>138.210</td>\n",
       "      <td>138.7100</td>\n",
       "      <td>137.240</td>\n",
       "    </tr>\n",
       "    <tr>\n",
       "      <th>2019/08/19</th>\n",
       "      <td>138.41</td>\n",
       "      <td>24370540.0</td>\n",
       "      <td>137.855</td>\n",
       "      <td>138.5500</td>\n",
       "      <td>136.885</td>\n",
       "    </tr>\n",
       "    <tr>\n",
       "      <th>2019/08/16</th>\n",
       "      <td>136.13</td>\n",
       "      <td>25026150.0</td>\n",
       "      <td>134.880</td>\n",
       "      <td>136.4600</td>\n",
       "      <td>134.720</td>\n",
       "    </tr>\n",
       "  </tbody>\n",
       "</table>\n",
       "</div>"
      ],
      "text/plain": [
       "             close      volume     open      high      low\n",
       "date                                                      \n",
       "2019/08/22  137.78  18709660.0  138.660  139.2000  136.290\n",
       "2019/08/21  138.79  14982310.0  138.550  139.4935  138.000\n",
       "2019/08/20  137.26  21189000.0  138.210  138.7100  137.240\n",
       "2019/08/19  138.41  24370540.0  137.855  138.5500  136.885\n",
       "2019/08/16  136.13  25026150.0  134.880  136.4600  134.720"
      ]
     },
     "execution_count": 5,
     "metadata": {},
     "output_type": "execute_result"
    }
   ],
   "source": [
    "msft1=msft.iloc[1:]\n",
    "msft1.head()"
   ]
  },
  {
   "cell_type": "code",
   "execution_count": 6,
   "metadata": {},
   "outputs": [
    {
     "data": {
      "text/html": [
       "<div>\n",
       "<style scoped>\n",
       "    .dataframe tbody tr th:only-of-type {\n",
       "        vertical-align: middle;\n",
       "    }\n",
       "\n",
       "    .dataframe tbody tr th {\n",
       "        vertical-align: top;\n",
       "    }\n",
       "\n",
       "    .dataframe thead th {\n",
       "        text-align: right;\n",
       "    }\n",
       "</style>\n",
       "<table border=\"1\" class=\"dataframe\">\n",
       "  <thead>\n",
       "    <tr style=\"text-align: right;\">\n",
       "      <th></th>\n",
       "      <th>close</th>\n",
       "      <th>volume</th>\n",
       "      <th>open</th>\n",
       "      <th>high</th>\n",
       "      <th>low</th>\n",
       "    </tr>\n",
       "    <tr>\n",
       "      <th>date</th>\n",
       "      <th></th>\n",
       "      <th></th>\n",
       "      <th></th>\n",
       "      <th></th>\n",
       "      <th></th>\n",
       "    </tr>\n",
       "  </thead>\n",
       "  <tbody>\n",
       "    <tr>\n",
       "      <th>2019/08/23</th>\n",
       "      <td>133.390</td>\n",
       "      <td>38515390.0</td>\n",
       "      <td>137.190</td>\n",
       "      <td>138.3500</td>\n",
       "      <td>132.8000</td>\n",
       "    </tr>\n",
       "    <tr>\n",
       "      <th>2019/08/22</th>\n",
       "      <td>137.780</td>\n",
       "      <td>18709660.0</td>\n",
       "      <td>138.660</td>\n",
       "      <td>139.2000</td>\n",
       "      <td>136.2900</td>\n",
       "    </tr>\n",
       "    <tr>\n",
       "      <th>2019/08/21</th>\n",
       "      <td>138.790</td>\n",
       "      <td>14982310.0</td>\n",
       "      <td>138.550</td>\n",
       "      <td>139.4935</td>\n",
       "      <td>138.0000</td>\n",
       "    </tr>\n",
       "    <tr>\n",
       "      <th>2019/08/20</th>\n",
       "      <td>137.260</td>\n",
       "      <td>21189000.0</td>\n",
       "      <td>138.210</td>\n",
       "      <td>138.7100</td>\n",
       "      <td>137.2400</td>\n",
       "    </tr>\n",
       "    <tr>\n",
       "      <th>2019/08/19</th>\n",
       "      <td>138.410</td>\n",
       "      <td>24370540.0</td>\n",
       "      <td>137.855</td>\n",
       "      <td>138.5500</td>\n",
       "      <td>136.8850</td>\n",
       "    </tr>\n",
       "    <tr>\n",
       "      <th>2019/08/16</th>\n",
       "      <td>136.130</td>\n",
       "      <td>25026150.0</td>\n",
       "      <td>134.880</td>\n",
       "      <td>136.4600</td>\n",
       "      <td>134.7200</td>\n",
       "    </tr>\n",
       "    <tr>\n",
       "      <th>2019/08/15</th>\n",
       "      <td>133.680</td>\n",
       "      <td>28125420.0</td>\n",
       "      <td>134.390</td>\n",
       "      <td>134.5800</td>\n",
       "      <td>132.2500</td>\n",
       "    </tr>\n",
       "    <tr>\n",
       "      <th>2019/08/14</th>\n",
       "      <td>133.980</td>\n",
       "      <td>32527250.0</td>\n",
       "      <td>136.360</td>\n",
       "      <td>136.9200</td>\n",
       "      <td>133.6700</td>\n",
       "    </tr>\n",
       "    <tr>\n",
       "      <th>2019/08/13</th>\n",
       "      <td>138.600</td>\n",
       "      <td>25496590.0</td>\n",
       "      <td>136.050</td>\n",
       "      <td>138.8000</td>\n",
       "      <td>135.0000</td>\n",
       "    </tr>\n",
       "    <tr>\n",
       "      <th>2019/08/12</th>\n",
       "      <td>135.790</td>\n",
       "      <td>20484350.0</td>\n",
       "      <td>137.070</td>\n",
       "      <td>137.8600</td>\n",
       "      <td>135.2400</td>\n",
       "    </tr>\n",
       "    <tr>\n",
       "      <th>2019/08/09</th>\n",
       "      <td>137.710</td>\n",
       "      <td>23466700.0</td>\n",
       "      <td>138.610</td>\n",
       "      <td>139.3800</td>\n",
       "      <td>136.4600</td>\n",
       "    </tr>\n",
       "    <tr>\n",
       "      <th>2019/08/08</th>\n",
       "      <td>138.890</td>\n",
       "      <td>27496510.0</td>\n",
       "      <td>136.600</td>\n",
       "      <td>138.9900</td>\n",
       "      <td>135.9300</td>\n",
       "    </tr>\n",
       "    <tr>\n",
       "      <th>2019/08/07</th>\n",
       "      <td>135.280</td>\n",
       "      <td>33414540.0</td>\n",
       "      <td>133.790</td>\n",
       "      <td>135.6500</td>\n",
       "      <td>131.8284</td>\n",
       "    </tr>\n",
       "    <tr>\n",
       "      <th>2019/08/06</th>\n",
       "      <td>134.690</td>\n",
       "      <td>32696650.0</td>\n",
       "      <td>133.800</td>\n",
       "      <td>135.6800</td>\n",
       "      <td>133.2100</td>\n",
       "    </tr>\n",
       "    <tr>\n",
       "      <th>2019/08/05</th>\n",
       "      <td>132.210</td>\n",
       "      <td>42749550.0</td>\n",
       "      <td>133.300</td>\n",
       "      <td>133.9298</td>\n",
       "      <td>130.7800</td>\n",
       "    </tr>\n",
       "    <tr>\n",
       "      <th>2019/08/02</th>\n",
       "      <td>136.900</td>\n",
       "      <td>30791620.0</td>\n",
       "      <td>138.090</td>\n",
       "      <td>138.3200</td>\n",
       "      <td>135.2600</td>\n",
       "    </tr>\n",
       "    <tr>\n",
       "      <th>2019/08/01</th>\n",
       "      <td>138.060</td>\n",
       "      <td>40557500.0</td>\n",
       "      <td>137.000</td>\n",
       "      <td>140.9383</td>\n",
       "      <td>136.9300</td>\n",
       "    </tr>\n",
       "    <tr>\n",
       "      <th>2019/07/31</th>\n",
       "      <td>136.270</td>\n",
       "      <td>38598790.0</td>\n",
       "      <td>140.330</td>\n",
       "      <td>140.4900</td>\n",
       "      <td>135.0800</td>\n",
       "    </tr>\n",
       "    <tr>\n",
       "      <th>2019/07/30</th>\n",
       "      <td>140.350</td>\n",
       "      <td>16846530.0</td>\n",
       "      <td>140.140</td>\n",
       "      <td>141.2199</td>\n",
       "      <td>139.8005</td>\n",
       "    </tr>\n",
       "    <tr>\n",
       "      <th>2019/07/29</th>\n",
       "      <td>141.030</td>\n",
       "      <td>16605870.0</td>\n",
       "      <td>141.500</td>\n",
       "      <td>141.5100</td>\n",
       "      <td>139.3663</td>\n",
       "    </tr>\n",
       "    <tr>\n",
       "      <th>2019/07/26</th>\n",
       "      <td>141.340</td>\n",
       "      <td>19037600.0</td>\n",
       "      <td>140.370</td>\n",
       "      <td>141.6750</td>\n",
       "      <td>140.3000</td>\n",
       "    </tr>\n",
       "    <tr>\n",
       "      <th>2019/07/25</th>\n",
       "      <td>140.190</td>\n",
       "      <td>18356880.0</td>\n",
       "      <td>140.430</td>\n",
       "      <td>140.6100</td>\n",
       "      <td>139.3215</td>\n",
       "    </tr>\n",
       "    <tr>\n",
       "      <th>2019/07/24</th>\n",
       "      <td>140.720</td>\n",
       "      <td>20738280.0</td>\n",
       "      <td>138.900</td>\n",
       "      <td>140.7400</td>\n",
       "      <td>138.8500</td>\n",
       "    </tr>\n",
       "    <tr>\n",
       "      <th>2019/07/23</th>\n",
       "      <td>139.290</td>\n",
       "      <td>18034590.0</td>\n",
       "      <td>139.760</td>\n",
       "      <td>139.9900</td>\n",
       "      <td>138.0300</td>\n",
       "    </tr>\n",
       "    <tr>\n",
       "      <th>2019/07/22</th>\n",
       "      <td>138.430</td>\n",
       "      <td>25080760.0</td>\n",
       "      <td>137.410</td>\n",
       "      <td>139.1900</td>\n",
       "      <td>137.3300</td>\n",
       "    </tr>\n",
       "    <tr>\n",
       "      <th>2019/07/19</th>\n",
       "      <td>136.620</td>\n",
       "      <td>48992360.0</td>\n",
       "      <td>140.220</td>\n",
       "      <td>140.6700</td>\n",
       "      <td>136.4500</td>\n",
       "    </tr>\n",
       "    <tr>\n",
       "      <th>2019/07/18</th>\n",
       "      <td>136.420</td>\n",
       "      <td>30808710.0</td>\n",
       "      <td>135.550</td>\n",
       "      <td>136.6200</td>\n",
       "      <td>134.6700</td>\n",
       "    </tr>\n",
       "    <tr>\n",
       "      <th>2019/07/17</th>\n",
       "      <td>136.270</td>\n",
       "      <td>20210960.0</td>\n",
       "      <td>137.700</td>\n",
       "      <td>137.9300</td>\n",
       "      <td>136.2200</td>\n",
       "    </tr>\n",
       "    <tr>\n",
       "      <th>2019/07/16</th>\n",
       "      <td>137.080</td>\n",
       "      <td>22726130.0</td>\n",
       "      <td>138.960</td>\n",
       "      <td>139.0500</td>\n",
       "      <td>136.5200</td>\n",
       "    </tr>\n",
       "    <tr>\n",
       "      <th>2019/07/15</th>\n",
       "      <td>138.900</td>\n",
       "      <td>16651460.0</td>\n",
       "      <td>139.440</td>\n",
       "      <td>139.5400</td>\n",
       "      <td>138.4600</td>\n",
       "    </tr>\n",
       "    <tr>\n",
       "      <th>...</th>\n",
       "      <td>...</td>\n",
       "      <td>...</td>\n",
       "      <td>...</td>\n",
       "      <td>...</td>\n",
       "      <td>...</td>\n",
       "    </tr>\n",
       "    <tr>\n",
       "      <th>2014/10/06</th>\n",
       "      <td>46.090</td>\n",
       "      <td>20532430.0</td>\n",
       "      <td>46.120</td>\n",
       "      <td>46.3000</td>\n",
       "      <td>45.9199</td>\n",
       "    </tr>\n",
       "    <tr>\n",
       "      <th>2014/10/03</th>\n",
       "      <td>46.090</td>\n",
       "      <td>32351720.0</td>\n",
       "      <td>45.980</td>\n",
       "      <td>46.3000</td>\n",
       "      <td>45.6100</td>\n",
       "    </tr>\n",
       "    <tr>\n",
       "      <th>2014/10/02</th>\n",
       "      <td>45.760</td>\n",
       "      <td>25297400.0</td>\n",
       "      <td>45.830</td>\n",
       "      <td>46.1000</td>\n",
       "      <td>45.6400</td>\n",
       "    </tr>\n",
       "    <tr>\n",
       "      <th>2014/10/01</th>\n",
       "      <td>45.900</td>\n",
       "      <td>38050210.0</td>\n",
       "      <td>46.270</td>\n",
       "      <td>46.5300</td>\n",
       "      <td>45.8450</td>\n",
       "    </tr>\n",
       "    <tr>\n",
       "      <th>2014/09/30</th>\n",
       "      <td>46.360</td>\n",
       "      <td>32996820.0</td>\n",
       "      <td>46.370</td>\n",
       "      <td>46.4763</td>\n",
       "      <td>46.0100</td>\n",
       "    </tr>\n",
       "    <tr>\n",
       "      <th>2014/09/29</th>\n",
       "      <td>46.440</td>\n",
       "      <td>26057810.0</td>\n",
       "      <td>45.980</td>\n",
       "      <td>46.5600</td>\n",
       "      <td>45.7600</td>\n",
       "    </tr>\n",
       "    <tr>\n",
       "      <th>2014/09/26</th>\n",
       "      <td>46.410</td>\n",
       "      <td>27051350.0</td>\n",
       "      <td>45.930</td>\n",
       "      <td>46.6200</td>\n",
       "      <td>45.7600</td>\n",
       "    </tr>\n",
       "    <tr>\n",
       "      <th>2014/09/25</th>\n",
       "      <td>46.040</td>\n",
       "      <td>32927320.0</td>\n",
       "      <td>46.880</td>\n",
       "      <td>47.0900</td>\n",
       "      <td>46.0300</td>\n",
       "    </tr>\n",
       "    <tr>\n",
       "      <th>2014/09/24</th>\n",
       "      <td>47.080</td>\n",
       "      <td>26533890.0</td>\n",
       "      <td>46.630</td>\n",
       "      <td>47.1100</td>\n",
       "      <td>46.3400</td>\n",
       "    </tr>\n",
       "    <tr>\n",
       "      <th>2014/09/23</th>\n",
       "      <td>46.560</td>\n",
       "      <td>33386790.0</td>\n",
       "      <td>46.850</td>\n",
       "      <td>46.9800</td>\n",
       "      <td>46.4700</td>\n",
       "    </tr>\n",
       "    <tr>\n",
       "      <th>2014/09/22</th>\n",
       "      <td>47.060</td>\n",
       "      <td>38655550.0</td>\n",
       "      <td>47.300</td>\n",
       "      <td>47.3800</td>\n",
       "      <td>46.9800</td>\n",
       "    </tr>\n",
       "    <tr>\n",
       "      <th>2014/09/19</th>\n",
       "      <td>47.520</td>\n",
       "      <td>202514100.0</td>\n",
       "      <td>46.810</td>\n",
       "      <td>47.5700</td>\n",
       "      <td>46.6000</td>\n",
       "    </tr>\n",
       "    <tr>\n",
       "      <th>2014/09/18</th>\n",
       "      <td>46.680</td>\n",
       "      <td>35493560.0</td>\n",
       "      <td>46.590</td>\n",
       "      <td>46.8300</td>\n",
       "      <td>46.4600</td>\n",
       "    </tr>\n",
       "    <tr>\n",
       "      <th>2014/09/17</th>\n",
       "      <td>46.520</td>\n",
       "      <td>38247550.0</td>\n",
       "      <td>46.260</td>\n",
       "      <td>46.6900</td>\n",
       "      <td>46.2300</td>\n",
       "    </tr>\n",
       "    <tr>\n",
       "      <th>2014/09/16</th>\n",
       "      <td>46.760</td>\n",
       "      <td>27865200.0</td>\n",
       "      <td>46.390</td>\n",
       "      <td>46.8500</td>\n",
       "      <td>46.2900</td>\n",
       "    </tr>\n",
       "    <tr>\n",
       "      <th>2014/09/15</th>\n",
       "      <td>46.240</td>\n",
       "      <td>37630230.0</td>\n",
       "      <td>46.540</td>\n",
       "      <td>46.7100</td>\n",
       "      <td>46.1000</td>\n",
       "    </tr>\n",
       "    <tr>\n",
       "      <th>2014/09/12</th>\n",
       "      <td>46.695</td>\n",
       "      <td>38224850.0</td>\n",
       "      <td>46.910</td>\n",
       "      <td>47.0200</td>\n",
       "      <td>46.6000</td>\n",
       "    </tr>\n",
       "    <tr>\n",
       "      <th>2014/09/11</th>\n",
       "      <td>47.000</td>\n",
       "      <td>29201070.0</td>\n",
       "      <td>46.740</td>\n",
       "      <td>47.0000</td>\n",
       "      <td>46.4700</td>\n",
       "    </tr>\n",
       "    <tr>\n",
       "      <th>2014/09/10</th>\n",
       "      <td>46.840</td>\n",
       "      <td>27297820.0</td>\n",
       "      <td>46.820</td>\n",
       "      <td>46.9400</td>\n",
       "      <td>46.2800</td>\n",
       "    </tr>\n",
       "    <tr>\n",
       "      <th>2014/09/09</th>\n",
       "      <td>46.760</td>\n",
       "      <td>40248050.0</td>\n",
       "      <td>46.470</td>\n",
       "      <td>46.9700</td>\n",
       "      <td>46.4200</td>\n",
       "    </tr>\n",
       "    <tr>\n",
       "      <th>2014/09/08</th>\n",
       "      <td>46.470</td>\n",
       "      <td>45709750.0</td>\n",
       "      <td>46.020</td>\n",
       "      <td>46.8000</td>\n",
       "      <td>45.9900</td>\n",
       "    </tr>\n",
       "    <tr>\n",
       "      <th>2014/09/05</th>\n",
       "      <td>45.910</td>\n",
       "      <td>36687170.0</td>\n",
       "      <td>45.110</td>\n",
       "      <td>45.9300</td>\n",
       "      <td>45.1100</td>\n",
       "    </tr>\n",
       "    <tr>\n",
       "      <th>2014/09/04</th>\n",
       "      <td>45.260</td>\n",
       "      <td>26475110.0</td>\n",
       "      <td>44.740</td>\n",
       "      <td>45.2700</td>\n",
       "      <td>44.7200</td>\n",
       "    </tr>\n",
       "    <tr>\n",
       "      <th>2014/09/03</th>\n",
       "      <td>44.960</td>\n",
       "      <td>33662430.0</td>\n",
       "      <td>44.530</td>\n",
       "      <td>45.1100</td>\n",
       "      <td>44.5300</td>\n",
       "    </tr>\n",
       "    <tr>\n",
       "      <th>2014/09/02</th>\n",
       "      <td>45.090</td>\n",
       "      <td>22956270.0</td>\n",
       "      <td>45.430</td>\n",
       "      <td>45.4600</td>\n",
       "      <td>44.8500</td>\n",
       "    </tr>\n",
       "    <tr>\n",
       "      <th>2014/08/29</th>\n",
       "      <td>45.430</td>\n",
       "      <td>21577940.0</td>\n",
       "      <td>45.090</td>\n",
       "      <td>45.4400</td>\n",
       "      <td>44.8550</td>\n",
       "    </tr>\n",
       "    <tr>\n",
       "      <th>2014/08/28</th>\n",
       "      <td>44.880</td>\n",
       "      <td>17656590.0</td>\n",
       "      <td>44.750</td>\n",
       "      <td>44.9800</td>\n",
       "      <td>44.6100</td>\n",
       "    </tr>\n",
       "    <tr>\n",
       "      <th>2014/08/27</th>\n",
       "      <td>44.870</td>\n",
       "      <td>20822900.0</td>\n",
       "      <td>44.900</td>\n",
       "      <td>45.0000</td>\n",
       "      <td>44.7600</td>\n",
       "    </tr>\n",
       "    <tr>\n",
       "      <th>2014/08/26</th>\n",
       "      <td>45.005</td>\n",
       "      <td>14850670.0</td>\n",
       "      <td>45.310</td>\n",
       "      <td>45.3950</td>\n",
       "      <td>44.9400</td>\n",
       "    </tr>\n",
       "    <tr>\n",
       "      <th>2014/08/25</th>\n",
       "      <td>45.170</td>\n",
       "      <td>16815800.0</td>\n",
       "      <td>45.400</td>\n",
       "      <td>45.4400</td>\n",
       "      <td>45.0400</td>\n",
       "    </tr>\n",
       "  </tbody>\n",
       "</table>\n",
       "<p>1259 rows × 5 columns</p>\n",
       "</div>"
      ],
      "text/plain": [
       "              close       volume     open      high       low\n",
       "date                                                         \n",
       "2019/08/23  133.390   38515390.0  137.190  138.3500  132.8000\n",
       "2019/08/22  137.780   18709660.0  138.660  139.2000  136.2900\n",
       "2019/08/21  138.790   14982310.0  138.550  139.4935  138.0000\n",
       "2019/08/20  137.260   21189000.0  138.210  138.7100  137.2400\n",
       "2019/08/19  138.410   24370540.0  137.855  138.5500  136.8850\n",
       "2019/08/16  136.130   25026150.0  134.880  136.4600  134.7200\n",
       "2019/08/15  133.680   28125420.0  134.390  134.5800  132.2500\n",
       "2019/08/14  133.980   32527250.0  136.360  136.9200  133.6700\n",
       "2019/08/13  138.600   25496590.0  136.050  138.8000  135.0000\n",
       "2019/08/12  135.790   20484350.0  137.070  137.8600  135.2400\n",
       "2019/08/09  137.710   23466700.0  138.610  139.3800  136.4600\n",
       "2019/08/08  138.890   27496510.0  136.600  138.9900  135.9300\n",
       "2019/08/07  135.280   33414540.0  133.790  135.6500  131.8284\n",
       "2019/08/06  134.690   32696650.0  133.800  135.6800  133.2100\n",
       "2019/08/05  132.210   42749550.0  133.300  133.9298  130.7800\n",
       "2019/08/02  136.900   30791620.0  138.090  138.3200  135.2600\n",
       "2019/08/01  138.060   40557500.0  137.000  140.9383  136.9300\n",
       "2019/07/31  136.270   38598790.0  140.330  140.4900  135.0800\n",
       "2019/07/30  140.350   16846530.0  140.140  141.2199  139.8005\n",
       "2019/07/29  141.030   16605870.0  141.500  141.5100  139.3663\n",
       "2019/07/26  141.340   19037600.0  140.370  141.6750  140.3000\n",
       "2019/07/25  140.190   18356880.0  140.430  140.6100  139.3215\n",
       "2019/07/24  140.720   20738280.0  138.900  140.7400  138.8500\n",
       "2019/07/23  139.290   18034590.0  139.760  139.9900  138.0300\n",
       "2019/07/22  138.430   25080760.0  137.410  139.1900  137.3300\n",
       "2019/07/19  136.620   48992360.0  140.220  140.6700  136.4500\n",
       "2019/07/18  136.420   30808710.0  135.550  136.6200  134.6700\n",
       "2019/07/17  136.270   20210960.0  137.700  137.9300  136.2200\n",
       "2019/07/16  137.080   22726130.0  138.960  139.0500  136.5200\n",
       "2019/07/15  138.900   16651460.0  139.440  139.5400  138.4600\n",
       "...             ...          ...      ...       ...       ...\n",
       "2014/10/06   46.090   20532430.0   46.120   46.3000   45.9199\n",
       "2014/10/03   46.090   32351720.0   45.980   46.3000   45.6100\n",
       "2014/10/02   45.760   25297400.0   45.830   46.1000   45.6400\n",
       "2014/10/01   45.900   38050210.0   46.270   46.5300   45.8450\n",
       "2014/09/30   46.360   32996820.0   46.370   46.4763   46.0100\n",
       "2014/09/29   46.440   26057810.0   45.980   46.5600   45.7600\n",
       "2014/09/26   46.410   27051350.0   45.930   46.6200   45.7600\n",
       "2014/09/25   46.040   32927320.0   46.880   47.0900   46.0300\n",
       "2014/09/24   47.080   26533890.0   46.630   47.1100   46.3400\n",
       "2014/09/23   46.560   33386790.0   46.850   46.9800   46.4700\n",
       "2014/09/22   47.060   38655550.0   47.300   47.3800   46.9800\n",
       "2014/09/19   47.520  202514100.0   46.810   47.5700   46.6000\n",
       "2014/09/18   46.680   35493560.0   46.590   46.8300   46.4600\n",
       "2014/09/17   46.520   38247550.0   46.260   46.6900   46.2300\n",
       "2014/09/16   46.760   27865200.0   46.390   46.8500   46.2900\n",
       "2014/09/15   46.240   37630230.0   46.540   46.7100   46.1000\n",
       "2014/09/12   46.695   38224850.0   46.910   47.0200   46.6000\n",
       "2014/09/11   47.000   29201070.0   46.740   47.0000   46.4700\n",
       "2014/09/10   46.840   27297820.0   46.820   46.9400   46.2800\n",
       "2014/09/09   46.760   40248050.0   46.470   46.9700   46.4200\n",
       "2014/09/08   46.470   45709750.0   46.020   46.8000   45.9900\n",
       "2014/09/05   45.910   36687170.0   45.110   45.9300   45.1100\n",
       "2014/09/04   45.260   26475110.0   44.740   45.2700   44.7200\n",
       "2014/09/03   44.960   33662430.0   44.530   45.1100   44.5300\n",
       "2014/09/02   45.090   22956270.0   45.430   45.4600   44.8500\n",
       "2014/08/29   45.430   21577940.0   45.090   45.4400   44.8550\n",
       "2014/08/28   44.880   17656590.0   44.750   44.9800   44.6100\n",
       "2014/08/27   44.870   20822900.0   44.900   45.0000   44.7600\n",
       "2014/08/26   45.005   14850670.0   45.310   45.3950   44.9400\n",
       "2014/08/25   45.170   16815800.0   45.400   45.4400   45.0400\n",
       "\n",
       "[1259 rows x 5 columns]"
      ]
     },
     "execution_count": 6,
     "metadata": {},
     "output_type": "execute_result"
    }
   ],
   "source": [
    "msft"
   ]
  },
  {
   "cell_type": "code",
   "execution_count": 9,
   "metadata": {},
   "outputs": [
    {
     "ename": "KeyError",
     "evalue": "\"['16:00'] not found in axis\"",
     "output_type": "error",
     "traceback": [
      "\u001b[0;31m---------------------------------------------------------------------------\u001b[0m",
      "\u001b[0;31mKeyError\u001b[0m                                  Traceback (most recent call last)",
      "\u001b[0;32m<ipython-input-9-b73ae444855a>\u001b[0m in \u001b[0;36m<module>\u001b[0;34m\u001b[0m\n\u001b[0;32m----> 1\u001b[0;31m \u001b[0mgoog\u001b[0m\u001b[0;34m.\u001b[0m\u001b[0mdrop\u001b[0m\u001b[0;34m(\u001b[0m\u001b[0;34m[\u001b[0m\u001b[0;34m\"16:00\"\u001b[0m\u001b[0;34m]\u001b[0m\u001b[0;34m,\u001b[0m\u001b[0maxis\u001b[0m\u001b[0;34m=\u001b[0m\u001b[0;36m1\u001b[0m\u001b[0;34m,\u001b[0m\u001b[0minplace\u001b[0m\u001b[0;34m=\u001b[0m\u001b[0;32mTrue\u001b[0m\u001b[0;34m)\u001b[0m\u001b[0;34m\u001b[0m\u001b[0;34m\u001b[0m\u001b[0m\n\u001b[0m\u001b[1;32m      2\u001b[0m \u001b[0mgoog\u001b[0m\u001b[0;34m.\u001b[0m\u001b[0mhead\u001b[0m\u001b[0;34m(\u001b[0m\u001b[0;34m)\u001b[0m\u001b[0;34m\u001b[0m\u001b[0;34m\u001b[0m\u001b[0m\n",
      "\u001b[0;32m/usr/local/lib/python3.7/site-packages/pandas/core/frame.py\u001b[0m in \u001b[0;36mdrop\u001b[0;34m(self, labels, axis, index, columns, level, inplace, errors)\u001b[0m\n\u001b[1;32m   3938\u001b[0m                                            \u001b[0mindex\u001b[0m\u001b[0;34m=\u001b[0m\u001b[0mindex\u001b[0m\u001b[0;34m,\u001b[0m \u001b[0mcolumns\u001b[0m\u001b[0;34m=\u001b[0m\u001b[0mcolumns\u001b[0m\u001b[0;34m,\u001b[0m\u001b[0;34m\u001b[0m\u001b[0;34m\u001b[0m\u001b[0m\n\u001b[1;32m   3939\u001b[0m                                            \u001b[0mlevel\u001b[0m\u001b[0;34m=\u001b[0m\u001b[0mlevel\u001b[0m\u001b[0;34m,\u001b[0m \u001b[0minplace\u001b[0m\u001b[0;34m=\u001b[0m\u001b[0minplace\u001b[0m\u001b[0;34m,\u001b[0m\u001b[0;34m\u001b[0m\u001b[0;34m\u001b[0m\u001b[0m\n\u001b[0;32m-> 3940\u001b[0;31m                                            errors=errors)\n\u001b[0m\u001b[1;32m   3941\u001b[0m \u001b[0;34m\u001b[0m\u001b[0m\n\u001b[1;32m   3942\u001b[0m     @rewrite_axis_style_signature('mapper', [('copy', True),\n",
      "\u001b[0;32m/usr/local/lib/python3.7/site-packages/pandas/core/generic.py\u001b[0m in \u001b[0;36mdrop\u001b[0;34m(self, labels, axis, index, columns, level, inplace, errors)\u001b[0m\n\u001b[1;32m   3778\u001b[0m         \u001b[0;32mfor\u001b[0m \u001b[0maxis\u001b[0m\u001b[0;34m,\u001b[0m \u001b[0mlabels\u001b[0m \u001b[0;32min\u001b[0m \u001b[0maxes\u001b[0m\u001b[0;34m.\u001b[0m\u001b[0mitems\u001b[0m\u001b[0;34m(\u001b[0m\u001b[0;34m)\u001b[0m\u001b[0;34m:\u001b[0m\u001b[0;34m\u001b[0m\u001b[0;34m\u001b[0m\u001b[0m\n\u001b[1;32m   3779\u001b[0m             \u001b[0;32mif\u001b[0m \u001b[0mlabels\u001b[0m \u001b[0;32mis\u001b[0m \u001b[0;32mnot\u001b[0m \u001b[0;32mNone\u001b[0m\u001b[0;34m:\u001b[0m\u001b[0;34m\u001b[0m\u001b[0;34m\u001b[0m\u001b[0m\n\u001b[0;32m-> 3780\u001b[0;31m                 \u001b[0mobj\u001b[0m \u001b[0;34m=\u001b[0m \u001b[0mobj\u001b[0m\u001b[0;34m.\u001b[0m\u001b[0m_drop_axis\u001b[0m\u001b[0;34m(\u001b[0m\u001b[0mlabels\u001b[0m\u001b[0;34m,\u001b[0m \u001b[0maxis\u001b[0m\u001b[0;34m,\u001b[0m \u001b[0mlevel\u001b[0m\u001b[0;34m=\u001b[0m\u001b[0mlevel\u001b[0m\u001b[0;34m,\u001b[0m \u001b[0merrors\u001b[0m\u001b[0;34m=\u001b[0m\u001b[0merrors\u001b[0m\u001b[0;34m)\u001b[0m\u001b[0;34m\u001b[0m\u001b[0;34m\u001b[0m\u001b[0m\n\u001b[0m\u001b[1;32m   3781\u001b[0m \u001b[0;34m\u001b[0m\u001b[0m\n\u001b[1;32m   3782\u001b[0m         \u001b[0;32mif\u001b[0m \u001b[0minplace\u001b[0m\u001b[0;34m:\u001b[0m\u001b[0;34m\u001b[0m\u001b[0;34m\u001b[0m\u001b[0m\n",
      "\u001b[0;32m/usr/local/lib/python3.7/site-packages/pandas/core/generic.py\u001b[0m in \u001b[0;36m_drop_axis\u001b[0;34m(self, labels, axis, level, errors)\u001b[0m\n\u001b[1;32m   3810\u001b[0m                 \u001b[0mnew_axis\u001b[0m \u001b[0;34m=\u001b[0m \u001b[0maxis\u001b[0m\u001b[0;34m.\u001b[0m\u001b[0mdrop\u001b[0m\u001b[0;34m(\u001b[0m\u001b[0mlabels\u001b[0m\u001b[0;34m,\u001b[0m \u001b[0mlevel\u001b[0m\u001b[0;34m=\u001b[0m\u001b[0mlevel\u001b[0m\u001b[0;34m,\u001b[0m \u001b[0merrors\u001b[0m\u001b[0;34m=\u001b[0m\u001b[0merrors\u001b[0m\u001b[0;34m)\u001b[0m\u001b[0;34m\u001b[0m\u001b[0;34m\u001b[0m\u001b[0m\n\u001b[1;32m   3811\u001b[0m             \u001b[0;32melse\u001b[0m\u001b[0;34m:\u001b[0m\u001b[0;34m\u001b[0m\u001b[0;34m\u001b[0m\u001b[0m\n\u001b[0;32m-> 3812\u001b[0;31m                 \u001b[0mnew_axis\u001b[0m \u001b[0;34m=\u001b[0m \u001b[0maxis\u001b[0m\u001b[0;34m.\u001b[0m\u001b[0mdrop\u001b[0m\u001b[0;34m(\u001b[0m\u001b[0mlabels\u001b[0m\u001b[0;34m,\u001b[0m \u001b[0merrors\u001b[0m\u001b[0;34m=\u001b[0m\u001b[0merrors\u001b[0m\u001b[0;34m)\u001b[0m\u001b[0;34m\u001b[0m\u001b[0;34m\u001b[0m\u001b[0m\n\u001b[0m\u001b[1;32m   3813\u001b[0m             \u001b[0mresult\u001b[0m \u001b[0;34m=\u001b[0m \u001b[0mself\u001b[0m\u001b[0;34m.\u001b[0m\u001b[0mreindex\u001b[0m\u001b[0;34m(\u001b[0m\u001b[0;34m**\u001b[0m\u001b[0;34m{\u001b[0m\u001b[0maxis_name\u001b[0m\u001b[0;34m:\u001b[0m \u001b[0mnew_axis\u001b[0m\u001b[0;34m}\u001b[0m\u001b[0;34m)\u001b[0m\u001b[0;34m\u001b[0m\u001b[0;34m\u001b[0m\u001b[0m\n\u001b[1;32m   3814\u001b[0m \u001b[0;34m\u001b[0m\u001b[0m\n",
      "\u001b[0;32m/usr/local/lib/python3.7/site-packages/pandas/core/indexes/base.py\u001b[0m in \u001b[0;36mdrop\u001b[0;34m(self, labels, errors)\u001b[0m\n\u001b[1;32m   4962\u001b[0m             \u001b[0;32mif\u001b[0m \u001b[0merrors\u001b[0m \u001b[0;34m!=\u001b[0m \u001b[0;34m'ignore'\u001b[0m\u001b[0;34m:\u001b[0m\u001b[0;34m\u001b[0m\u001b[0;34m\u001b[0m\u001b[0m\n\u001b[1;32m   4963\u001b[0m                 raise KeyError(\n\u001b[0;32m-> 4964\u001b[0;31m                     '{} not found in axis'.format(labels[mask]))\n\u001b[0m\u001b[1;32m   4965\u001b[0m             \u001b[0mindexer\u001b[0m \u001b[0;34m=\u001b[0m \u001b[0mindexer\u001b[0m\u001b[0;34m[\u001b[0m\u001b[0;34m~\u001b[0m\u001b[0mmask\u001b[0m\u001b[0;34m]\u001b[0m\u001b[0;34m\u001b[0m\u001b[0;34m\u001b[0m\u001b[0m\n\u001b[1;32m   4966\u001b[0m         \u001b[0;32mreturn\u001b[0m \u001b[0mself\u001b[0m\u001b[0;34m.\u001b[0m\u001b[0mdelete\u001b[0m\u001b[0;34m(\u001b[0m\u001b[0mindexer\u001b[0m\u001b[0;34m)\u001b[0m\u001b[0;34m\u001b[0m\u001b[0;34m\u001b[0m\u001b[0m\n",
      "\u001b[0;31mKeyError\u001b[0m: \"['16:00'] not found in axis\""
     ]
    }
   ],
   "source": [
    "goog.drop([\"16:00\"],axis=1,inplace=True)\n",
    "goog.head()"
   ]
  },
  {
   "cell_type": "code",
   "execution_count": null,
   "metadata": {},
   "outputs": [],
   "source": [
    "amzn"
   ]
  },
  {
   "cell_type": "code",
   "execution_count": null,
   "metadata": {},
   "outputs": [],
   "source": [
    "amzn[\"volume\"].plot()\n",
    "amzn.head()"
   ]
  },
  {
   "cell_type": "code",
   "execution_count": null,
   "metadata": {},
   "outputs": [],
   "source": [
    "amzn[\"close\"].plot()"
   ]
  },
  {
   "cell_type": "code",
   "execution_count": null,
   "metadata": {},
   "outputs": [],
   "source": [
    "amzn.sort_values(by=[\"date\"],ascending=True,inplace=True)"
   ]
  },
  {
   "cell_type": "code",
   "execution_count": null,
   "metadata": {
    "scrolled": true
   },
   "outputs": [],
   "source": [
    "amzn.head()"
   ]
  },
  {
   "cell_type": "code",
   "execution_count": null,
   "metadata": {},
   "outputs": [],
   "source": [
    "amzn.sort_values(by=[\"date\"],ascending=True,inplace=True)"
   ]
  },
  {
   "cell_type": "code",
   "execution_count": null,
   "metadata": {},
   "outputs": [],
   "source": [
    "type(amzn[\"close\"][123])"
   ]
  },
  {
   "cell_type": "code",
   "execution_count": null,
   "metadata": {},
   "outputs": [],
   "source": [
    "type(goog[\"close\"][123])"
   ]
  },
  {
   "cell_type": "code",
   "execution_count": null,
   "metadata": {},
   "outputs": [],
   "source": [
    "\n",
    "type(aapl[\"close\"][123])"
   ]
  },
  {
   "cell_type": "code",
   "execution_count": null,
   "metadata": {},
   "outputs": [],
   "source": [
    "type(msft[\"close\"][123])"
   ]
  },
  {
   "cell_type": "code",
   "execution_count": null,
   "metadata": {},
   "outputs": [],
   "source": [
    "msft[\"close\"].plot()"
   ]
  },
  {
   "cell_type": "code",
   "execution_count": null,
   "metadata": {},
   "outputs": [],
   "source": [
    "goog[\"close\"].plot()"
   ]
  },
  {
   "cell_type": "code",
   "execution_count": null,
   "metadata": {},
   "outputs": [],
   "source": [
    "aapl.sort_values(by=[\"date\"],ascending=True,inplace=True)"
   ]
  },
  {
   "cell_type": "code",
   "execution_count": null,
   "metadata": {},
   "outputs": [],
   "source": [
    "aapl.dtypes"
   ]
  },
  {
   "cell_type": "code",
   "execution_count": null,
   "metadata": {},
   "outputs": [],
   "source": [
    "def nasdaq_forcast(*args):\n",
    "    for dataset in args:\n",
    "        dataset.sort_values(by=[\"date\"],ascending=True,inplace=True)\n",
    "#     dataset[column].plot()"
   ]
  },
  {
   "cell_type": "code",
   "execution_count": null,
   "metadata": {},
   "outputs": [],
   "source": [
    "nasdaq_forcast(goog,amzn,aapl,msft)"
   ]
  },
  {
   "cell_type": "code",
   "execution_count": null,
   "metadata": {},
   "outputs": [],
   "source": [
    "amzn.head()"
   ]
  },
  {
   "cell_type": "code",
   "execution_count": null,
   "metadata": {},
   "outputs": [],
   "source": [
    "aapl[\"close\"].plot(figsize=(10,5),label=\"Apple\",title=\"5 years stock pricee\")\n",
    "goog[\"close\"].plot(label=\"Google\")\n",
    "msft[\"close\"].plot(label=\"microsoft\")\n",
    "amzn[\"close\"].plot(label=\"Amazon\")\n",
    "plt.legend()"
   ]
  },
  {
   "cell_type": "markdown",
   "metadata": {},
   "source": [
    "for volume"
   ]
  },
  {
   "cell_type": "code",
   "execution_count": null,
   "metadata": {},
   "outputs": [],
   "source": [
    "aapl[\"volume\"].plot(figsize=(10,5),label=\"Apple\",title=\"5 years stock price\")\n",
    "goog[\"volume\"].plot(figsize=(10,5),label=\"Google\")\n",
    "\n",
    "amzn[\"volume\"].plot(figsize=(10,5),label=\"Amazon\")\n",
    "\n",
    "msft[\"volume\"].plot(figsize=(10,5),label=\"Microsoft\")\n",
    "\n",
    "plt.legend()"
   ]
  },
  {
   "cell_type": "code",
   "execution_count": null,
   "metadata": {},
   "outputs": [],
   "source": [
    "msft[\"volume\"].argmax()"
   ]
  },
  {
   "cell_type": "code",
   "execution_count": null,
   "metadata": {},
   "outputs": [],
   "source": [
    "msft[\"volume\"].argmin()"
   ]
  },
  {
   "cell_type": "code",
   "execution_count": null,
   "metadata": {},
   "outputs": [],
   "source": [
    "goog[\"close\"].argmax()"
   ]
  },
  {
   "cell_type": "markdown",
   "metadata": {},
   "source": [
    "TOTAL TRADE AMOUNT\n"
   ]
  },
  {
   "cell_type": "code",
   "execution_count": null,
   "metadata": {},
   "outputs": [],
   "source": [
    "aapl.head()"
   ]
  },
  {
   "cell_type": "code",
   "execution_count": null,
   "metadata": {},
   "outputs": [],
   "source": [
    "aapl[\"Total Trade\"]=aapl[\"close\"]*aapl[\"volume\"]"
   ]
  },
  {
   "cell_type": "code",
   "execution_count": null,
   "metadata": {},
   "outputs": [],
   "source": [
    "aapl.head()"
   ]
  },
  {
   "cell_type": "code",
   "execution_count": null,
   "metadata": {},
   "outputs": [],
   "source": [
    "aapl[\"Total Trade\"]=aapl[\"close\"]*aapl[\"volume\"]\n",
    "goog[\"Total Trade\"]=aapl[\"close\"]*goog[\"volume\"]\n",
    "amzn[\"Total Trade\"]=aapl[\"close\"]*amzn[\"volume\"]\n",
    "msft[\"Total Trade\"]=aapl[\"close\"]*msft[\"volume\"]"
   ]
  },
  {
   "cell_type": "code",
   "execution_count": null,
   "metadata": {},
   "outputs": [],
   "source": [
    "msft.head()"
   ]
  },
  {
   "cell_type": "code",
   "execution_count": null,
   "metadata": {},
   "outputs": [],
   "source": [
    "goog.head()"
   ]
  },
  {
   "cell_type": "code",
   "execution_count": null,
   "metadata": {},
   "outputs": [],
   "source": [
    "amzn.head()"
   ]
  },
  {
   "cell_type": "code",
   "execution_count": null,
   "metadata": {},
   "outputs": [],
   "source": [
    "aapl[\"Total Trade\"].plot(figsize=(10,5),label=\"Apple\",title=\"5 years stock price\")\n",
    "goog[\"Total Trade\"].plot(figsize=(10,5),label=\"Google\")\n",
    "\n",
    "amzn[\"Total Trade\"].plot(figsize=(10,5),label=\"Amazon\")\n",
    "\n",
    "msft[\"Total Trade\"].plot(figsize=(10,5),label=\"Microsoft\")\n",
    "\n",
    "plt.legend()"
   ]
  },
  {
   "cell_type": "code",
   "execution_count": null,
   "metadata": {},
   "outputs": [],
   "source": [
    "msft[\"Total Trade\"].argmax()"
   ]
  },
  {
   "cell_type": "code",
   "execution_count": null,
   "metadata": {},
   "outputs": [],
   "source": [
    "msft[\"MA50\"]=msft[\"close\"].rolling(50).mean()\n",
    "msft[\"MA200\"]=msft[\"close\"].rolling(200).mean()"
   ]
  },
  {
   "cell_type": "code",
   "execution_count": null,
   "metadata": {},
   "outputs": [],
   "source": [
    "msft"
   ]
  },
  {
   "cell_type": "code",
   "execution_count": null,
   "metadata": {},
   "outputs": [],
   "source": [
    "msft[[\"MA50\",\"close\",\"MA200\"]].plot(figsize=(10,5))"
   ]
  },
  {
   "cell_type": "markdown",
   "metadata": {},
   "source": [
    "HOME WORK"
   ]
  },
  {
   "cell_type": "markdown",
   "metadata": {},
   "source": [
    "Calculate the MA50 and MA200 for all stocks .\n",
    "plot the line chart for all of them\n",
    "what are your observations?what kind of information  you can get from those charts?\n",
    "Refractor all the code into functions"
   ]
  },
  {
   "cell_type": "code",
   "execution_count": null,
   "metadata": {},
   "outputs": [],
   "source": [
    "aapl['Total Trade'].argmax()\n"
   ]
  },
  {
   "cell_type": "code",
   "execution_count": null,
   "metadata": {},
   "outputs": [],
   "source": [
    "aapl[\"MA50\"]=msft[\"close\"].rolling(50).mean()                  \n",
    "aapl[\"MA200\"]=msft[\"close\"].rolling(200).mean()"
   ]
  },
  {
   "cell_type": "code",
   "execution_count": null,
   "metadata": {},
   "outputs": [],
   "source": [
    "aapl[[\"MA50\",\"close\",\"MA200\"]].plot(figsize=(10,5))"
   ]
  },
  {
   "cell_type": "code",
   "execution_count": null,
   "metadata": {},
   "outputs": [],
   "source": [
    "goog['Total Trade'].argmax()"
   ]
  },
  {
   "cell_type": "code",
   "execution_count": null,
   "metadata": {},
   "outputs": [],
   "source": [
    "goog[\"MA50\"]=msft[\"close\"].rolling(50).mean()                  \n",
    "goog[\"MA200\"]=msft[\"close\"].rolling(200).mean()"
   ]
  },
  {
   "cell_type": "code",
   "execution_count": null,
   "metadata": {},
   "outputs": [],
   "source": [
    "goog[[\"MA50\",\"close\",\"MA200\"]].plot(figsize=(10,5))"
   ]
  },
  {
   "cell_type": "code",
   "execution_count": null,
   "metadata": {},
   "outputs": [],
   "source": [
    "amzn['Total Trade'].argmax()"
   ]
  },
  {
   "cell_type": "code",
   "execution_count": null,
   "metadata": {},
   "outputs": [],
   "source": [
    "amzn[\"MA50\"]=msft[\"close\"].rolling(50).mean()                  \n",
    "amzn[\"MA200\"]=msft[\"close\"].rolling(200).mean()"
   ]
  },
  {
   "cell_type": "code",
   "execution_count": null,
   "metadata": {},
   "outputs": [],
   "source": [
    "amzn[[\"MA50\",\"close\",\"MA200\"]].plot(figsize=(10,5))"
   ]
  },
  {
   "cell_type": "markdown",
   "metadata": {},
   "source": [
    "MSFT plot using function"
   ]
  },
  {
   "cell_type": "code",
   "execution_count": null,
   "metadata": {},
   "outputs": [],
   "source": [
    "def moving_average_chart(dataset,title,column):\n",
    "    dataset[\"MA50\"]=dataset[\"close\"].rolling(50).mean()\n",
    "    dataset[\"MA200\"]=dataset[\"close\"].rolling(200).mean()\n",
    "    dataset[[\"MA50\",\"close\",\"MA200\"]].plot(figsize=(10,5),title=title)"
   ]
  },
  {
   "cell_type": "code",
   "execution_count": null,
   "metadata": {},
   "outputs": [],
   "source": [
    "moving_average_chart(aapl,\"Apple Moving Average 50 and 200\",\"close\")"
   ]
  },
  {
   "cell_type": "code",
   "execution_count": null,
   "metadata": {},
   "outputs": [],
   "source": [
    "from pandas.plotting import scatter_matrix"
   ]
  },
  {
   "cell_type": "code",
   "execution_count": null,
   "metadata": {},
   "outputs": [],
   "source": [
    "all_companies=pd.concat([\n",
    "    aapl[\"close\"],\n",
    "    amzn[\"close\"],\n",
    "    msft[\"close\"],\n",
    "    goog[\"close\"]\n",
    "])"
   ]
  },
  {
   "cell_type": "code",
   "execution_count": null,
   "metadata": {},
   "outputs": [],
   "source": [
    "all_companies"
   ]
  },
  {
   "cell_type": "code",
   "execution_count": null,
   "metadata": {},
   "outputs": [],
   "source": [
    "all_companies=pd.concat([\n",
    "    aapl[\"close\"],\n",
    "    amzn[\"close\"],\n",
    "    msft[\"close\"],\n",
    "    goog[\"close\"]\n",
    "],axis=1)"
   ]
  },
  {
   "cell_type": "code",
   "execution_count": null,
   "metadata": {},
   "outputs": [],
   "source": [
    "all_companies.columns=[\"Apple\",\"Amazon\",\"Microsoft\",\"Google\"]\n",
    "all_companies.head()"
   ]
  },
  {
   "cell_type": "code",
   "execution_count": null,
   "metadata": {},
   "outputs": [],
   "source": [
    "scatter_matrix(\n",
    "    all_companies,\n",
    "    figsize=(10,10),\n",
    "    alpha=0.2,\n",
    "    hist_kwds={'bins':50})\n",
    "plt.show()"
   ]
  },
  {
   "cell_type": "markdown",
   "metadata": {},
   "source": [
    "Daily Percntage change\n",
    "\n",
    "$r_t=\\frac{p_t}{p_{t-1}}-1$\n",
    "\n",
    "rt=return"
   ]
  },
  {
   "cell_type": "code",
   "execution_count": null,
   "metadata": {},
   "outputs": [],
   "source": [
    "goog[\"daily_return\"]=(goog[\"close\"]/goog[\"close\"].shift(1))-1\n"
   ]
  },
  {
   "cell_type": "code",
   "execution_count": null,
   "metadata": {},
   "outputs": [],
   "source": [
    "goog"
   ]
  },
  {
   "cell_type": "code",
   "execution_count": null,
   "metadata": {},
   "outputs": [],
   "source": [
    "# using function\n",
    "def cal_daily_return(*args):\n",
    "    for dataset in args:\n",
    "        dataset[\"daily_return\"]=(dataset[\"close\"]/dataset[\"close\"].shift(1))-1"
   ]
  },
  {
   "cell_type": "code",
   "execution_count": null,
   "metadata": {},
   "outputs": [],
   "source": [
    "cal_daily_return(goog,amzn,msft,aapl)"
   ]
  },
  {
   "cell_type": "code",
   "execution_count": null,
   "metadata": {},
   "outputs": [],
   "source": [
    "goog.head()"
   ]
  },
  {
   "cell_type": "markdown",
   "metadata": {},
   "source": [
    "Histogram"
   ]
  },
  {
   "cell_type": "code",
   "execution_count": null,
   "metadata": {},
   "outputs": [],
   "source": [
    "goog[\"daily_return\"].hist(bins=50)\n"
   ]
  },
  {
   "cell_type": "code",
   "execution_count": null,
   "metadata": {},
   "outputs": [],
   "source": [
    "aapl[\"daily_return\"].hist(bins=50)"
   ]
  },
  {
   "cell_type": "code",
   "execution_count": null,
   "metadata": {},
   "outputs": [],
   "source": [
    "# using function\n",
    "def plot_histogram(labels,*args):\n",
    "    concat_list=[]\n",
    "    for dataset in args:\n",
    "        concat_list.append(dataset[\"daily_return\"])\n",
    "        \n",
    "    merged_df=pd.concat(concat_list,axis=1)\n",
    "    merged_df.columns=labels\n",
    "#         dataset[\"daily_return\"].hist(bins=50,label=labels[index])\n",
    "    for col in merged_df.columns:\n",
    "        merged_df[col].hist(bins=50,label=col,figsize=(10,5))\n",
    "    plt.legend()\n",
    "    return merged_df"
   ]
  },
  {
   "cell_type": "code",
   "execution_count": null,
   "metadata": {},
   "outputs": [],
   "source": [
    "df=plot_histogram(\n",
    "    [\"Apple\",\"Google\",\"Amazon\",\"Microsoft\"],\n",
    "    aapl,goog,amzn,msft)"
   ]
  },
  {
   "cell_type": "code",
   "execution_count": null,
   "metadata": {},
   "outputs": [],
   "source": [
    "# another way\n",
    "def plot_histogram2(labels,*args):\n",
    "    index=-1\n",
    "    for dataset in args:\n",
    "        index+=1\n",
    "        dataset[\"daily_return\"].hist(bins=50,label=labels[index])\n",
    "    plt.legend()    \n",
    "        "
   ]
  },
  {
   "cell_type": "code",
   "execution_count": null,
   "metadata": {},
   "outputs": [],
   "source": [
    "df=plot_histogram2(\n",
    "    [\"Apple\",\"Google\",\"Amazon\",\"Microsoft\"],\n",
    "    aapl,goog,amzn,msft)"
   ]
  },
  {
   "cell_type": "code",
   "execution_count": null,
   "metadata": {},
   "outputs": [],
   "source": [
    "# another way\n",
    "def plot_histogram3(labels,*args):\n",
    "    for dataset in args:\n",
    "        dataset[\"daily_return\"].hist(bins=50,figsize=(10,5),alpha=0.5)\n",
    "    plt.legend(labels)    "
   ]
  },
  {
   "cell_type": "code",
   "execution_count": null,
   "metadata": {},
   "outputs": [],
   "source": [
    "df=plot_histogram3(\n",
    "    [\"Apple\",\"Google\",\"Amazon\",\"Microsoft\"],\n",
    "    aapl,goog,amzn,msft)"
   ]
  },
  {
   "cell_type": "code",
   "execution_count": null,
   "metadata": {},
   "outputs": [],
   "source": [
    "# KDE\n",
    "def plot_kde(labels,*args):\n",
    "    index=-1\n",
    "    for dataset in args:\n",
    "        index+=1\n",
    "        dataset[\"daily_return\"].plot(kind=\"kde\",label=labels[index],figsize=(10,6))\n",
    "    plt.legend() "
   ]
  },
  {
   "cell_type": "code",
   "execution_count": null,
   "metadata": {},
   "outputs": [],
   "source": [
    "plot_kde(\n",
    "    [\"Apple\",\"Google\",\"Amazon\",\"Microsoft\"],\n",
    "    aapl,goog,amzn,msft)"
   ]
  },
  {
   "cell_type": "code",
   "execution_count": null,
   "metadata": {},
   "outputs": [],
   "source": [
    "# Box\n",
    "def plot_box(labels,*args):\n",
    "    index=-1\n",
    "    for dataset in args:\n",
    "        index+=1\n",
    "        dataset[\"daily_return\"].plot(kind=\"box\",label=labels[index],figsize=(10,6))\n",
    "    plt.legend() "
   ]
  },
  {
   "cell_type": "code",
   "execution_count": null,
   "metadata": {},
   "outputs": [],
   "source": [
    "plot_box(\n",
    "    [\"Apple\",\"Google\",\"Amazon\",\"Microsoft\"],\n",
    "    aapl,goog,amzn,msft)"
   ]
  },
  {
   "cell_type": "markdown",
   "metadata": {},
   "source": [
    "above box is not exactly correct  can't find right answer"
   ]
  },
  {
   "cell_type": "code",
   "execution_count": null,
   "metadata": {},
   "outputs": [],
   "source": [
    "box_df=pd.concat([\n",
    "    aapl[\"daily_return\"],\n",
    "    goog[\"daily_return\"],\n",
    "    amzn[\"daily_return\"],\n",
    "    msft[\"daily_return\"],\n",
    "],axis=1)\n",
    "box_df.columns=[\"Apple\",\"Google\",\"Amazon\",\"Microsoft\"]"
   ]
  },
  {
   "cell_type": "code",
   "execution_count": null,
   "metadata": {},
   "outputs": [],
   "source": [
    "box_df.head()"
   ]
  },
  {
   "cell_type": "code",
   "execution_count": null,
   "metadata": {},
   "outputs": [],
   "source": [
    "box_df.plot(kind=\"box\",figsize=(10,10))"
   ]
  },
  {
   "cell_type": "markdown",
   "metadata": {},
   "source": [
    "home work\n",
    "\n",
    "-Calculate the cumulative return\n",
    "-plot a line chart shows all of the cumulative returns"
   ]
  },
  {
   "cell_type": "code",
   "execution_count": null,
   "metadata": {},
   "outputs": [],
   "source": []
  },
  {
   "cell_type": "code",
   "execution_count": null,
   "metadata": {},
   "outputs": [],
   "source": []
  },
  {
   "cell_type": "code",
   "execution_count": null,
   "metadata": {},
   "outputs": [],
   "source": []
  }
 ],
 "metadata": {
  "kernelspec": {
   "display_name": "Python 3",
   "language": "python",
   "name": "python3"
  },
  "language_info": {
   "codemirror_mode": {
    "name": "ipython",
    "version": 3
   },
   "file_extension": ".py",
   "mimetype": "text/x-python",
   "name": "python",
   "nbconvert_exporter": "python",
   "pygments_lexer": "ipython3",
   "version": "3.7.3"
  }
 },
 "nbformat": 4,
 "nbformat_minor": 2
}
